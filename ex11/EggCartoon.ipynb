{
 "cells": [
  {
   "cell_type": "code",
   "execution_count": 3,
   "metadata": {},
   "outputs": [],
   "source": [
    "import pandas as pd\n",
    "import matplotlib as mpl\n",
    "import matplotlib.pyplot as plt\n",
    "import numpy as np\n",
    "import matplotlib.ticker as ticker\n",
    "import sys\n",
    "from iminuit import Minuit\n",
    "from matplotlib.colors import ListedColormap\n",
    "from tqdm import tqdm\n",
    "from sklearn.neighbors import KernelDensity\n",
    "import nestle\n",
    "# 32 sec"
   ]
  },
  {
   "cell_type": "code",
   "execution_count": 2,
   "metadata": {},
   "outputs": [],
   "source": [
    "sys.path.append('../External_Functions')\n",
    "from ExternalFunctions import Chi2Regression, BinnedLH, UnbinnedLH, simpson38\n",
    "from ExternalFunctions import nice_string_output, add_text_to_ax "
   ]
  },
  {
   "cell_type": "code",
   "execution_count": null,
   "metadata": {},
   "outputs": [],
   "source": [
    "COLOUR = ['#1E90FF', # 0 # Dodgerblue\n",
    "          '#FFBF00', # 1 # Amber\n",
    "          '#FF6347', # 2 # Tomato\n",
    "          '#00A86B', # 3 # Jade\n",
    "          '#8A2BE2', # 4 # Blueviolet\n",
    "          '#FF6FFF', # 5 # Ultra Pink\n",
    "          '#00CCFF', # 6 # Vivid Sky Blue\n",
    "          '#00ff40', # 7 # Erin\n",
    "          '#FF004F', # 8 # Folly\n",
    "          '#0063A6', # 9 # Lapis Lazuli\n",
    "        ]\n",
    "def setMplParam(classNum):\n",
    "    # Define effective colors, line styles, and markers based on the class number\n",
    "   \n",
    "    LINE = ['-', '-.', '--', '-.', ':','--','-.','-', ':', '--']\n",
    "    MARKER = ['.','*', '^', 's', '.', 'p', 'o', 's', '.', 'd']\n",
    "    COLOUR_EFF = COLOUR[:classNum]\n",
    "    LINE_EFF = LINE[:classNum]\n",
    "    MARKER_EFF = MARKER[:classNum]\n",
    "\n",
    "    # Set the color cycle for lines including color, line style, and marker\n",
    "    plt.rcParams['axes.prop_cycle'] = (plt.cycler(color=COLOUR_EFF) +\n",
    "                                       plt.cycler(linestyle=LINE_EFF)+\n",
    "                                       plt.cycler(marker=MARKER_EFF))\n",
    "\n",
    "    # Set default line and marker sizes\n",
    "    plt.rcParams['lines.markersize'] = 3  # Example size\n",
    "    plt.rcParams['lines.linewidth'] = 2   # Example width for lines\n",
    "\n",
    "    # Set label and title sizes\n",
    "    plt.rcParams['axes.labelsize'] = 20\n",
    "    plt.rcParams['axes.titlesize'] = 20\n",
    "\n",
    "    # Set tick properties\n",
    "    plt.rcParams['xtick.direction'] = 'in'\n",
    "    plt.rcParams['xtick.labelsize'] = 20\n",
    "    plt.rcParams['ytick.direction'] = 'in'\n",
    "    plt.rcParams['ytick.labelsize'] = 20\n",
    "\n",
    "    # Set legend font size\n",
    "    plt.rcParams['legend.fontsize'] = 12\n",
    "\n",
    "    # Enable and configure grid\n",
    "    plt.rcParams['axes.grid'] = True\n",
    "    plt.rcParams['grid.alpha'] = 0.8\n",
    "    plt.rcParams['grid.linestyle'] = '--'\n",
    "    plt.rcParams['grid.linewidth'] = 1\n",
    "\n",
    "    # Set axes line width\n",
    "    plt.rcParams['axes.linewidth'] = 2\n",
    "\n",
    "    # Set tick sizes and widths\n",
    "    plt.rcParams['xtick.major.size'] = 7\n",
    "    plt.rcParams['xtick.major.width'] = 3\n",
    "    plt.rcParams['xtick.minor.size'] = 2\n",
    "    plt.rcParams['xtick.minor.width'] = 2\n",
    "\n",
    "    plt.rcParams['ytick.major.size'] = 7\n",
    "    plt.rcParams['ytick.major.width'] = 3\n",
    "    plt.rcParams['ytick.minor.size'] = 2\n",
    "    plt.rcParams['ytick.minor.width'] = 2\n",
    "\n",
    "setMplParam(10)\n"
   ]
  },
  {
   "cell_type": "code",
   "execution_count": 17,
   "metadata": {},
   "outputs": [],
   "source": [
    "def prior_transform(u):\n",
    "    return 10. * u - 5."
   ]
  },
  {
   "cell_type": "code",
   "execution_count": 16,
   "metadata": {},
   "outputs": [],
   "source": [
    "def eggCartoonLikelihood(theta):\n",
    "    C = 1\n",
    "    return C * np.cos(theta[0]) * np.cos(theta[1])\n"
   ]
  },
  {
   "cell_type": "code",
   "execution_count": 18,
   "metadata": {},
   "outputs": [
    {
     "name": "stdout",
     "output_type": "stream",
     "text": [
      "0.18237307604647113 0.031170203827895832\n"
     ]
    }
   ],
   "source": [
    "def nestleSample():\n",
    "    # Run nested sampling.\n",
    "    result = nestle.sample(loglikelihood=eggCartoonLikelihood, \n",
    "                           prior_transform=prior_transform, \n",
    "                           ndim=2)\n",
    "\n",
    "    # Accessing the results\n",
    "    logz = result.logz     # log evidence\n",
    "    logzerr = result.logzerr  # numerical (sampling) error on logz\n",
    "    samples = result.samples  # array of sample parameters\n",
    "    weights = result.weights  # array of weights associated with each sample\n",
    "    \n",
    "    print(logz, logzerr)\n",
    "nestleSample()"
   ]
  }
 ],
 "metadata": {
  "kernelspec": {
   "display_name": "Python 3",
   "language": "python",
   "name": "python3"
  },
  "language_info": {
   "codemirror_mode": {
    "name": "ipython",
    "version": 3
   },
   "file_extension": ".py",
   "mimetype": "text/x-python",
   "name": "python",
   "nbconvert_exporter": "python",
   "pygments_lexer": "ipython3",
   "version": "3.9.18"
  }
 },
 "nbformat": 4,
 "nbformat_minor": 2
}
