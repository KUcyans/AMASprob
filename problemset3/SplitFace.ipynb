{
 "cells": [
  {
   "cell_type": "code",
   "execution_count": 1,
   "metadata": {},
   "outputs": [],
   "source": [
    "from PIL import Image\n",
    "import os"
   ]
  },
  {
   "cell_type": "code",
   "execution_count": 3,
   "metadata": {},
   "outputs": [],
   "source": [
    "def split():\n",
    "    sourcePath = 'resources/'\n",
    "    sourceFile = 'OriginFace.jpg'\n",
    "    img = Image.open(sourcePath + sourceFile)\n",
    "    # Calculate the width and height of each part\n",
    "    width, height = img.size\n",
    "    part_width = width // 3\n",
    "    part_height = height // 3\n",
    "    \n",
    "    # Create the output folder if it doesn't exist\n",
    "    if not os.path.exists(sourcePath):\n",
    "        os.makedirs(sourcePath)\n",
    "    \n",
    "    # Divide the image into 9 parts and save them\n",
    "    for i in range(3):\n",
    "        for j in range(3):\n",
    "            # Define the coordinates of the current part\n",
    "            left = i * part_width\n",
    "            upper = j * part_height\n",
    "            right = left + part_width\n",
    "            lower = upper + part_height\n",
    "            \n",
    "            # Crop the current part\n",
    "            img_part = img.crop((left, upper, right, lower))\n",
    "            \n",
    "            # Save the cropped part\n",
    "            img_part.save(os.path.join(sourcePath, f'part_{j}_{i}.jpg'))\n"
   ]
  },
  {
   "cell_type": "code",
   "execution_count": 4,
   "metadata": {},
   "outputs": [],
   "source": [
    "split()"
   ]
  }
 ],
 "metadata": {
  "kernelspec": {
   "display_name": "Python 3",
   "language": "python",
   "name": "python3"
  },
  "language_info": {
   "codemirror_mode": {
    "name": "ipython",
    "version": 3
   },
   "file_extension": ".py",
   "mimetype": "text/x-python",
   "name": "python",
   "nbconvert_exporter": "python",
   "pygments_lexer": "ipython3",
   "version": "3.9.18"
  }
 },
 "nbformat": 4,
 "nbformat_minor": 2
}
