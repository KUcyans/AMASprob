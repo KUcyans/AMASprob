{
 "cells": [
  {
   "cell_type": "code",
   "execution_count": 3,
   "metadata": {},
   "outputs": [],
   "source": [
    "import pandas as pd\n",
    "import matplotlib as mpl\n",
    "import matplotlib.pyplot as plt\n",
    "import numpy as np\n",
    "import matplotlib.ticker as ticker\n",
    "import sys\n",
    "from iminuit import Minuit\n",
    "import scipy.stats as stats"
   ]
  },
  {
   "cell_type": "code",
   "execution_count": 5,
   "metadata": {},
   "outputs": [],
   "source": [
    "sys.path.append('../External_Functions')\n",
    "from ExternalFunctions import Chi2Regression, BinnedLH, UnbinnedLH, simpson38\n",
    "from ExternalFunctions import nice_string_output, add_text_to_ax "
   ]
  },
  {
   "cell_type": "code",
   "execution_count": 6,
   "metadata": {},
   "outputs": [],
   "source": [
    "COLOUR = ['#1E90FF', # 0 # Dodgerblue\n",
    "          '#FFBF00', # 1 # Amber\n",
    "          '#FF6347', # 2 # Tomato\n",
    "          '#00A86B', # 3 # Jade\n",
    "          '#8A2BE2', # 4 # Blueviolet\n",
    "          '#FF6FFF', # 5 # Ultra Pink\n",
    "          '#00CCFF', # 6 # Vivid Sky Blue\n",
    "          '#FFD800', # 7 # School Bus Yellow\n",
    "          '#FF004F', # 8 # Folly\n",
    "          '#0063A6', # 9 # Lapis Lazuli\n",
    "        ]\n",
    "def setMplParam(classNum):\n",
    "    # Define effective colors, line styles, and markers based on the class number\n",
    "   \n",
    "    LINE = ['-', '-.', '--', '-.', ':','--','-.','-', ':', '--']\n",
    "    MARKER = ['.','*', '^', 's', '.', 'p', 'o', 's', '.', 'd']\n",
    "    COLOUR_EFF = COLOUR[:classNum]\n",
    "    LINE_EFF = LINE[:classNum]\n",
    "    MARKER_EFF = MARKER[:classNum]\n",
    "\n",
    "    # Set the color cycle for lines including color, line style, and marker\n",
    "    plt.rcParams['axes.prop_cycle'] = (plt.cycler(color=COLOUR_EFF) +\n",
    "                                       plt.cycler(linestyle=LINE_EFF)+\n",
    "                                       plt.cycler(marker=MARKER_EFF))\n",
    "\n",
    "    # Set default line and marker sizes\n",
    "    plt.rcParams['lines.markersize'] = 3  # Example size\n",
    "    plt.rcParams['lines.linewidth'] = 2   # Example width for lines\n",
    "\n",
    "    # Set label and title sizes\n",
    "    plt.rcParams['axes.labelsize'] = 20\n",
    "    plt.rcParams['axes.titlesize'] = 20\n",
    "\n",
    "    # Set tick properties\n",
    "    plt.rcParams['xtick.direction'] = 'in'\n",
    "    plt.rcParams['xtick.labelsize'] = 20\n",
    "    plt.rcParams['ytick.direction'] = 'in'\n",
    "    plt.rcParams['ytick.labelsize'] = 20\n",
    "\n",
    "    # Set legend font size\n",
    "    plt.rcParams['legend.fontsize'] = 12\n",
    "\n",
    "    # Enable and configure grid\n",
    "    plt.rcParams['axes.grid'] = True\n",
    "    plt.rcParams['grid.alpha'] = 0.8\n",
    "    plt.rcParams['grid.linestyle'] = '--'\n",
    "    plt.rcParams['grid.linewidth'] = 1\n",
    "\n",
    "    # Set axes line width\n",
    "    plt.rcParams['axes.linewidth'] = 2\n",
    "\n",
    "    # Set tick sizes and widths\n",
    "    plt.rcParams['xtick.major.size'] = 7\n",
    "    plt.rcParams['xtick.major.width'] = 3\n",
    "    plt.rcParams['xtick.minor.size'] = 2\n",
    "    plt.rcParams['xtick.minor.width'] = 2\n",
    "\n",
    "    plt.rcParams['ytick.major.size'] = 7\n",
    "    plt.rcParams['ytick.major.width'] = 3\n",
    "    plt.rcParams['ytick.minor.size'] = 2\n",
    "    plt.rcParams['ytick.minor.width'] = 2\n",
    "\n",
    "setMplParam(10)\n"
   ]
  },
  {
   "cell_type": "code",
   "execution_count": 20,
   "metadata": {},
   "outputs": [],
   "source": [
    "def readData(n):\n",
    "    filename = 'dataset'+str(n)+'.data'\n",
    "    df = pd.read_csv(filename, sep=' ', header=None)\n",
    "    df = df.iloc[:, :2]  # Take only the first two columns\n",
    "    df = pd.DataFrame(df.astype(float))\n",
    "    # df.columns = ['x1', 'x2']\n",
    "    return df"
   ]
  },
  {
   "cell_type": "code",
   "execution_count": 21,
   "metadata": {},
   "outputs": [
    {
     "name": "stdout",
     "output_type": "stream",
     "text": [
      "        0       1\n",
      "0 -0.2311  8.9561\n",
      "1 -0.0739 -2.4125\n",
      "2  0.8418  4.5516\n",
      "3  0.4520  1.4962\n",
      "4  0.1805  3.0160\n",
      "        0       1\n",
      "0  0.0629  8.9561\n",
      "1  0.1699 -2.4125\n",
      "2  0.9666  4.5516\n",
      "3 -0.1727  1.4962\n",
      "4 -0.3933  3.0160\n"
     ]
    }
   ],
   "source": [
    "data1 = readData(1)\n",
    "data2 = readData(2)\n",
    "print(data1.head())\n",
    "print(data2.head())"
   ]
  },
  {
   "cell_type": "code",
   "execution_count": null,
   "metadata": {},
   "outputs": [],
   "source": []
  },
  {
   "cell_type": "code",
   "execution_count": null,
   "metadata": {},
   "outputs": [],
   "source": []
  },
  {
   "cell_type": "code",
   "execution_count": null,
   "metadata": {},
   "outputs": [],
   "source": []
  },
  {
   "cell_type": "code",
   "execution_count": null,
   "metadata": {},
   "outputs": [],
   "source": []
  },
  {
   "cell_type": "code",
   "execution_count": null,
   "metadata": {},
   "outputs": [],
   "source": []
  },
  {
   "cell_type": "code",
   "execution_count": null,
   "metadata": {},
   "outputs": [],
   "source": []
  }
 ],
 "metadata": {
  "kernelspec": {
   "display_name": "Python 3",
   "language": "python",
   "name": "python3"
  },
  "language_info": {
   "codemirror_mode": {
    "name": "ipython",
    "version": 3
   },
   "file_extension": ".py",
   "mimetype": "text/x-python",
   "name": "python",
   "nbconvert_exporter": "python",
   "pygments_lexer": "ipython3",
   "version": "3.9.18"
  }
 },
 "nbformat": 4,
 "nbformat_minor": 2
}
