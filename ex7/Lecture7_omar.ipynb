{
 "cells": [
  {
   "cell_type": "code",
   "execution_count": 31,
   "id": "be64c3d3-0599-4d80-ab47-4f51045cb53b",
   "metadata": {},
   "outputs": [],
   "source": [
    "import numpy as np\n",
    "import matplotlib.pyplot as plt\n",
    "from cycler import cycler\n",
    "from scipy.integrate import quad\n",
    "\n",
    "colors = [\"#006400\", \"#8b0000\", \"#008080\", \"#ff8c00\", \"#00008b\", \"#8a9a5b\", \"#e9967a\", \"#708090\", \"#6b8e23\",\n",
    "           \"#cc5500\", \"#8b4513\", \"#4682b4\", \"#E69F00\", \"#56B4E9\", \"#F0E442\", \"#0072B2\", \"#CC79A7\", \"#009E73\", \"#000000\", \"#654321\"]\n",
    "plt.rcParams['axes.prop_cycle'] = cycler(color=colors)\n",
    "#from scipy.special import gamma as gamma_func\n",
    "from iminuit import Minuit\n",
    "from scipy import stats\n",
    "#from matplotlib.patches import Circle"
   ]
  },
  {
   "cell_type": "markdown",
   "id": "7d7334e6-c97b-4127-ba98-a9bbdc6f2e99",
   "metadata": {},
   "source": [
    "# Exercise 1"
   ]
  },
  {
   "cell_type": "code",
   "execution_count": 5,
   "id": "fe3d1e15-5171-4425-a284-1122dcb476b7",
   "metadata": {},
   "outputs": [],
   "source": [
    "data1 = np.genfromtxt(\"LLH_Ratio_2_data.txt\")[:, 0]\n",
    "data2 = np.genfromtxt(\"LLH_Ratio_2a_data.txt\")[:, 0]"
   ]
  },
  {
   "cell_type": "code",
   "execution_count": 7,
   "id": "1c6cfb1c-fe97-4633-ad8e-633301b7911d",
   "metadata": {},
   "outputs": [
    {
     "data": {
      "image/png": "[encoded data removed]",
      "text/plain": [
       "<Figure size 640x480 with 1 Axes>"
      ]
     },
     "metadata": {},
     "output_type": "display_data"
    }
   ],
   "source": [
    "plt.hist(data1);\n",
    "plt.hist(data2);"
   ]
  },
  {
   "cell_type": "code",
   "execution_count": 8,
   "id": "45291a99-dadc-4d72-a5a8-7a0789daf5ae",
   "metadata": {},
   "outputs": [],
   "source": [
    "def null_hypothesis(x, rho, omega):\n",
    "    return 1 + rho * x + omega * x**2\n",
    "\n",
    "def normalized_null_hypothesis(x, rho, omega):\n",
    "    norm_const, _ = quad(null_hypothesis, -1, 1, args=(rho, omega))\n",
    "    return null_hypothesis(x, rho, omega) / norm_const\n",
    "\n",
    "\n",
    "def alt_hypothesis(x, rho, omega, gamma):\n",
    "    return 1 + rho * x + omega * x**2 - gamma * x**5\n",
    "\n",
    "def normalized_alt_hypothesis(x, rho, omega, gamma):\n",
    "    norm_const, _ = quad(alt_hypothesis, -1, 1, args=(rho, omega, gamma))\n",
    "    return alt_hypothesis(x, rho, omega, gamma) / norm_const"
   ]
  },
  {
   "cell_type": "code",
   "execution_count": 14,
   "id": "92f8bcf6-cb45-4d53-9234-17cdc523ffb7",
   "metadata": {},
   "outputs": [
    {
     "data": {
      "text/html": [
       "<table>\n",
       "    <tr>\n",
       "        <th colspan=\"2\" style=\"text-align:center\" title=\"Minimizer\"> Migrad </th>\n",
       "    </tr>\n",
       "    <tr>\n",
       "        <td style=\"text-align:left\" title=\"Minimum value of function\"> FCN = 1.35e+04 </td>\n",
       "        <td style=\"text-align:center\" title=\"Total number of function and (optional) gradient evaluations\"> Nfcn = 75 </td>\n",
       "    </tr>\n",
       "    <tr>\n",
       "        <td style=\"text-align:left\" title=\"Estimated distance to minimum and goal\"> EDM = 1.92e-07 (Goal: 0.0002) </td>\n",
       "        <td style=\"text-align:center\" title=\"Total run time of algorithms\">  </td>\n",
       "    </tr>\n",
       "    <tr>\n",
       "        <td style=\"text-align:center;background-color:#92CCA6;color:black\"> Valid Minimum </td>\n",
       "        <td style=\"text-align:center;background-color:#92CCA6;color:black\"> Below EDM threshold (goal x 10) </td>\n",
       "    </tr>\n",
       "    <tr>\n",
       "        <td style=\"text-align:center;background-color:#92CCA6;color:black\"> No parameters at limit </td>\n",
       "        <td style=\"text-align:center;background-color:#92CCA6;color:black\"> Below call limit </td>\n",
       "    </tr>\n",
       "    <tr>\n",
       "        <td style=\"text-align:center;background-color:#92CCA6;color:black\"> Hesse ok </td>\n",
       "        <td style=\"text-align:center;background-color:#92CCA6;color:black\"> Covariance accurate </td>\n",
       "    </tr>\n",
       "</table><table>\n",
       "    <tr>\n",
       "        <td></td>\n",
       "        <th title=\"Variable name\"> Name </th>\n",
       "        <th title=\"Value of parameter\"> Value </th>\n",
       "        <th title=\"Hesse error\"> Hesse Error </th>\n",
       "        <th title=\"Minos lower error\"> Minos Error- </th>\n",
       "        <th title=\"Minos upper error\"> Minos Error+ </th>\n",
       "        <th title=\"Lower limit of the parameter\"> Limit- </th>\n",
       "        <th title=\"Upper limit of the parameter\"> Limit+ </th>\n",
       "        <th title=\"Is the parameter fixed in the fit\"> Fixed </th>\n",
       "    </tr>\n",
       "    <tr>\n",
       "        <th> 0 </th>\n",
       "        <td> rho </td>\n",
       "        <td> 0.32 </td>\n",
       "        <td> 0.04 </td>\n",
       "        <td>  </td>\n",
       "        <td>  </td>\n",
       "        <td>  </td>\n",
       "        <td>  </td>\n",
       "        <td>  </td>\n",
       "    </tr>\n",
       "    <tr>\n",
       "        <th> 1 </th>\n",
       "        <td> omega </td>\n",
       "        <td> 0.59 </td>\n",
       "        <td> 0.05 </td>\n",
       "        <td>  </td>\n",
       "        <td>  </td>\n",
       "        <td>  </td>\n",
       "        <td>  </td>\n",
       "        <td>  </td>\n",
       "    </tr>\n",
       "    <tr>\n",
       "        <th> 2 </th>\n",
       "        <td> gamma </td>\n",
       "        <td> 0.92 </td>\n",
       "        <td> 0.08 </td>\n",
       "        <td>  </td>\n",
       "        <td>  </td>\n",
       "        <td>  </td>\n",
       "        <td>  </td>\n",
       "        <td>  </td>\n",
       "    </tr>\n",
       "</table><table>\n",
       "    <tr>\n",
       "        <td></td>\n",
       "        <th> rho </th>\n",
       "        <th> omega </th>\n",
       "        <th> gamma </th>\n",
       "    </tr>\n",
       "    <tr>\n",
       "        <th> rho </th>\n",
       "        <td> 0.00133 </td>\n",
       "        <td style=\"background-color:rgb(250,228,228);color:black\"> 0.0003 <strong>(0.146)</strong> </td>\n",
       "        <td style=\"background-color:rgb(250,130,130);color:black\"> 0.0022 <strong>(0.801)</strong> </td>\n",
       "    </tr>\n",
       "    <tr>\n",
       "        <th> omega </th>\n",
       "        <td style=\"background-color:rgb(250,228,228);color:black\"> 0.0003 <strong>(0.146)</strong> </td>\n",
       "        <td> 0.00244 </td>\n",
       "        <td style=\"background-color:rgb(250,208,208);color:black\"> 0.0010 <strong>(0.278)</strong> </td>\n",
       "    </tr>\n",
       "    <tr>\n",
       "        <th> gamma </th>\n",
       "        <td style=\"background-color:rgb(250,130,130);color:black\"> 0.0022 <strong>(0.801)</strong> </td>\n",
       "        <td style=\"background-color:rgb(250,208,208);color:black\"> 0.0010 <strong>(0.278)</strong> </td>\n",
       "        <td> 0.00564 </td>\n",
       "    </tr>\n",
       "</table>"
      ],
      "text/plain": [
       "┌─────────────────────────────────────────────────────────────────────────┐\n",
       "│                                Migrad                                   │\n",
       "├──────────────────────────────────┬──────────────────────────────────────┤\n",
       "│ FCN = 1.35e+04                   │              Nfcn = 75               │\n",
       "│ EDM = 1.92e-07 (Goal: 0.0002)    │                                      │\n",
       "├──────────────────────────────────┼──────────────────────────────────────┤\n",
       "│          Valid Minimum           │   Below EDM threshold (goal x 10)    │\n",
       "├──────────────────────────────────┼──────────────────────────────────────┤\n",
       "│      No parameters at limit      │           Below call limit           │\n",
       "├──────────────────────────────────┼──────────────────────────────────────┤\n",
       "│             Hesse ok             │         Covariance accurate          │\n",
       "└──────────────────────────────────┴──────────────────────────────────────┘\n",
       "┌───┬───────┬───────────┬───────────┬────────────┬────────────┬─────────┬─────────┬───────┐\n",
       "│   │ Name  │   Value   │ Hesse Err │ Minos Err- │ Minos Err+ │ Limit-  │ Limit+  │ Fixed │\n",
       "├───┼───────┼───────────┼───────────┼────────────┼────────────┼─────────┼─────────┼───────┤\n",
       "│ 0 │ rho   │   0.32    │   0.04    │            │            │         │         │       │\n",
       "│ 1 │ omega │   0.59    │   0.05    │            │            │         │         │       │\n",
       "│ 2 │ gamma │   0.92    │   0.08    │            │            │         │         │       │\n",
       "└───┴───────┴───────────┴───────────┴────────────┴────────────┴─────────┴─────────┴───────┘\n",
       "┌───────┬─────────────────────────┐\n",
       "│       │     rho   omega   gamma │\n",
       "├───────┼─────────────────────────┤\n",
       "│   rho │ 0.00133  0.0003  0.0022 │\n",
       "│ omega │  0.0003 0.00244  0.0010 │\n",
       "│ gamma │  0.0022  0.0010 0.00564 │\n",
       "└───────┴─────────────────────────┘"
      ]
     },
     "execution_count": 14,
     "metadata": {},
     "output_type": "execute_result"
    }
   ],
   "source": [
    "def ln_likelihood_minimize_null(data, rho, omega):\n",
    "    func = lambda x: normalized_null_hypothesis(x, rho, omega)\n",
    "    return -np.sum(np.log(func(data)), axis=0)\n",
    "\n",
    "\n",
    "def ln_likelihood_minimize_alt(data, rho, omega, gamma):\n",
    "    func = lambda x: normalized_alt_hypothesis(x, rho, omega, gamma)\n",
    "    return -np.sum(np.log(func(data)), axis=0)\n",
    "\n",
    "minimizer_null_data1 = Minuit(lambda rho, omega: ln_likelihood_minimize_null(data1, rho, omega), rho=0.5, omega=0.5)\n",
    "minimizer_null_data1.migrad()\n",
    "minimizer_null_data2 = Minuit(lambda rho, omega: ln_likelihood_minimize_null(data2, rho, omega), rho=0.5, omega=0.5)\n",
    "minimizer_null_data2.migrad()\n",
    "minimizer_alt_data1 = Minuit(lambda rho, omega, gamma: ln_likelihood_minimize_alt(data1, rho, omega, gamma), rho=0.5, omega=0.5, gamma=0.5)\n",
    "minimizer_alt_data1.migrad()\n",
    "minimizer_alt_data2 = Minuit(lambda rho, omega, gamma: ln_likelihood_minimize_alt(data2, rho, omega, gamma), rho=0.5, omega=0.5, gamma=0.5)\n",
    "minimizer_alt_data2.migrad()"
   ]
  },
  {
   "cell_type": "code",
   "execution_count": 18,
   "id": "1911aa19-a67e-485c-8223-a7063c73ae69",
   "metadata": {},
   "outputs": [],
   "source": [
    "rho_null_data1, omega_null_data1 = minimizer_null_data1.values\n",
    "rho_null_data2, omega_null_data2 = minimizer_null_data2.values\n",
    "rho_alt_data1, omega_alt_data1, gamma_alt_data1 = minimizer_alt_data1.values\n",
    "rho_alt_data2, omega_alt_data2, gamma_alt_data2 = minimizer_alt_data2.values"
   ]
  },
  {
   "cell_type": "code",
   "execution_count": 45,
   "id": "686514f8-1ca2-452f-ad6b-b7b3e0c8967f",
   "metadata": {},
   "outputs": [],
   "source": [
    "LLH_null_data1 = ln_likelihood_minimize_null(data1, rho_null_data1, omega_null_data1)\n",
    "LLH_null_data2 = ln_likelihood_minimize_null(data2, rho_null_data2, omega_null_data2)\n",
    "LLH_alt_data1 = ln_likelihood_minimize_alt(data1, rho_alt_data1, omega_alt_data1, gamma_alt_data1)\n",
    "LLH_alt_data2 = ln_likelihood_minimize_alt(data2, rho_alt_data2, omega_alt_data2, gamma_alt_data2)"
   ]
  },
  {
   "cell_type": "code",
   "execution_count": 44,
   "id": "1cf6dc6f-f559-41c4-a1c9-0e0fae03858c",
   "metadata": {},
   "outputs": [
    {
     "name": "stdout",
     "output_type": "stream",
     "text": [
      "Data 1:\n",
      "-LLH h0: -13432.139550369662\n",
      "-LLH hA: -13431.405470964015\n",
      "-2(LLH_h0-LLH_hA): -1.4681588112944155\n",
      "p-value: 0.2256364166072721\n",
      "\n",
      "Data 2:\n",
      "-LLH h0: -13651.005538365564\n",
      "-LLH hA: -13495.017489946045\n",
      "-2(LLH_h0-LLH_hA): -311.9760968390365\n",
      "p-value: 8.104936872746848e-70\n"
     ]
    }
   ],
   "source": [
    "print(\"Data 1:\")\n",
    "print(\"-LLH h0:\", -LLH_null_data1)\n",
    "print(\"-LLH hA:\", -LLH_alt_data1)\n",
    "chi2_stat_data1 = -2*(LLH_null_data1 - LLH_alt_data1)\n",
    "print(\"-2(LLH_h0-LLH_hA):\", chi2_stat_data1) # This is the chi2_k=1, where then the p-value is the inverse survival function\n",
    "print(\"p-value:\", stats.chi2.sf(abs(chi2_stat_data1), 1)) # sf or 1 - isf\n",
    "print()\n",
    "print(\"Data 2:\")\n",
    "print(\"-LLH h0:\", -LLH_null_data2)\n",
    "print(\"-LLH hA:\", -LLH_alt_data2)\n",
    "chi2_stat_data2 = -2*(LLH_null_data2 - LLH_alt_data2)\n",
    "print(\"-2(LLH_h0-LLH_hA):\", chi2_stat_data2) # This is the chi2_k=1, where then the p-value is the inverse survival function\n",
    "print(\"p-value:\", stats.chi2.sf(abs(chi2_stat_data2), 1))\n"
   ]
  }
 ],
 "metadata": {
  "kernelspec": {
   "display_name": "Python 3 (ipykernel)",
   "language": "python",
   "name": "python3"
  },
  "language_info": {
   "codemirror_mode": {
    "name": "ipython",
    "version": 3
   },
   "file_extension": ".py",
   "mimetype": "text/x-python",
   "name": "python",
   "nbconvert_exporter": "python",
   "pygments_lexer": "ipython3",
   "version": "3.10.13"
  }
 },
 "nbformat": 4,
 "nbformat_minor": 5
}
