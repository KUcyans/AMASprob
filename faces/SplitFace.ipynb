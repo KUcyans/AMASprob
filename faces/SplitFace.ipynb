{
 "cells": [
  {
   "cell_type": "code",
   "execution_count": 17,
   "metadata": {},
   "outputs": [],
   "source": [
    "from PIL import Image\n",
    "import os"
   ]
  },
  {
   "cell_type": "code",
   "execution_count": 19,
   "metadata": {},
   "outputs": [],
   "source": [
    "def split():\n",
    "    sourcePath = ''\n",
    "    sourceFile = 'Original_final.jpg'\n",
    "    img = Image.open(sourcePath + sourceFile)\n",
    "    # Calculate the width and height of each part\n",
    "    width, height = img.size\n",
    "    part_width = width // 4\n",
    "    part_height = height // 4\n",
    "    \n",
    "    # Create the output folder if it doesn't exist\n",
    "    # if not os.path.exists(sourcePath):\n",
    "    #     os.makedirs(sourcePath)\n",
    "    \n",
    "    # Divide the image into 9 parts and save them\n",
    "    for i in range(4):\n",
    "        for j in range(4):\n",
    "            # Define the coordinates of the current part\n",
    "            left = i * part_width\n",
    "            upper = j * part_height\n",
    "            right = left + part_width\n",
    "            lower = upper + part_height\n",
    "            \n",
    "            # Crop the current part\n",
    "            img_part = img.crop((left, upper, right, lower))\n",
    "            \n",
    "            # Save the cropped part\n",
    "            img_part.save(os.path.join(sourcePath, f'part_{j}_{i}.jpg'))\n"
   ]
  },
  {
   "cell_type": "code",
   "execution_count": 20,
   "metadata": {},
   "outputs": [],
   "source": [
    "split()"
   ]
  }
 ],
 "metadata": {
  "kernelspec": {
   "display_name": "Python 3",
   "language": "python",
   "name": "python3"
  },
  "language_info": {
   "codemirror_mode": {
    "name": "ipython",
    "version": 3
   },
   "file_extension": ".py",
   "mimetype": "text/x-python",
   "name": "python",
   "nbconvert_exporter": "python",
   "pygments_lexer": "ipython3",
   "version": "3.9.18"
  }
 },
 "nbformat": 4,
 "nbformat_minor": 2
}
