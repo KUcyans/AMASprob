{
 "cells": [
  {
   "cell_type": "code",
   "execution_count": 1,
   "metadata": {},
   "outputs": [],
   "source": [
    "import numpy as np \n",
    "from scipy import stats \n",
    "import matplotlib.pyplot as plt\n",
    "import matplotlib as mpl\n",
    "\n",
    "import matplotlib.colors as colors\n",
    "import sys\n",
    "from iminuit import Minuit\n",
    "import pandas as pd\n",
    "\n",
    "from functools import lru_cache\n",
    "from iminuit.cost import UnbinnedNLL\n",
    "from iminuit.util import make_with_signature\n"
   ]
  },
  {
   "cell_type": "code",
   "execution_count": 2,
   "metadata": {},
   "outputs": [],
   "source": [
    "sys.path.append('../External_Functions')\n",
    "from ExternalFunctions import Chi2Regression, BinnedLH, UnbinnedLH, simpson38\n",
    "from ExternalFunctions import nice_string_output, add_text_to_ax # useful functions to print fit results on figure"
   ]
  },
  {
   "cell_type": "code",
   "execution_count": 3,
   "metadata": {},
   "outputs": [],
   "source": [
    "def setMplParam(classNum):\n",
    "    COLOUR = ['#1E90FF', '#FFBF00', '#FF6347', '#00A86B', '#5A4FCF','#D473D4', '#00CCFF']\n",
    "    LINE = ['--', '-', '-.', '-', ':', '--','-']\n",
    "    MARKER = ['o', '*', '^', 's', '.', 'p', 'o']\n",
    "    COLOUR_EFF = COLOUR[:classNum]\n",
    "    LINE_EFF = LINE[:classNum]\n",
    "    MARKER_EFF = MARKER[:classNum]\n",
    "    plt.rcParams['axes.prop_cycle'] = (plt.cycler(color=COLOUR_EFF) +\n",
    "                                        plt.cycler(linestyle=LINE_EFF) +\n",
    "                                        plt.cycler(marker=MARKER_EFF))\n",
    "    plt.rcParams['lines.markersize'] = 5  # Example size\n",
    "    plt.rcParams['lines.linewidth'] = 2  # Example width\n",
    "\n",
    "    plt.rcParams['axes.labelsize'] = 20\n",
    "    plt.rcParams['axes.titlesize'] = 20\n",
    "\n",
    "    plt.rcParams['xtick.direction'] = 'in'\n",
    "    plt.rcParams['xtick.labelsize'] = 20\n",
    "    \n",
    "    plt.rcParams['ytick.direction'] = 'in'\n",
    "    plt.rcParams['ytick.labelsize'] = 20\n",
    "    \n",
    "    plt.rcParams['legend.fontsize'] = 12\n",
    "\n",
    "    plt.rcParams['axes.grid'] = True\n",
    "    plt.rcParams['grid.alpha'] = 0.8\n",
    "    plt.rcParams['grid.linestyle'] = '--'\n",
    "    plt.rcParams['grid.linewidth'] = 1\n",
    "\n",
    "    mpl.rcParams['axes.linewidth'] = 2\n",
    "\n",
    "    mpl.rcParams['xtick.major.size'] = 7\n",
    "    mpl.rcParams['xtick.major.width'] = 3\n",
    "    mpl.rcParams['xtick.minor.size'] = 2\n",
    "    mpl.rcParams['xtick.minor.width'] = 2\n",
    "\n",
    "    mpl.rcParams['ytick.major.size'] = 7\n",
    "    mpl.rcParams['ytick.major.width'] = 3\n",
    "    mpl.rcParams['ytick.minor.size'] = 2\n",
    "    mpl.rcParams['ytick.minor.width'] = 2\n",
    "\n",
    "setMplParam(6)"
   ]
  },
  {
   "cell_type": "code",
   "execution_count": 4,
   "metadata": {},
   "outputs": [
    {
     "name": "stdout",
     "output_type": "stream",
     "text": [
      "          0\n",
      "0 -0.123539\n",
      "1 -0.035415\n",
      "2  0.150512\n",
      "3  0.730207\n",
      "4  0.791910\n"
     ]
    }
   ],
   "source": [
    "def readData(file):\n",
    "    # Specify header=None to indicate the first row is not a header\n",
    "    # Add column names manually if desired, for example, ['Value']\n",
    "    data = pd.read_csv(file, header=None)\n",
    "    if data.shape[0] < 2000:\n",
    "        rows_to_add = 2000 - data.shape[0]\n",
    "        additional_rows = pd.DataFrame(np.nan, index=range(rows_to_add), columns=data.columns)\n",
    "        data = pd.concat([data, additional_rows], ignore_index=True)\n",
    "\n",
    "    return data\n",
    "\n",
    "data1 = readData('data1.dat')\n",
    "bound1 = (-0.95, 0.95)\n",
    "print(data1.head())"
   ]
  },
  {
   "cell_type": "code",
   "execution_count": 5,
   "metadata": {},
   "outputs": [],
   "source": [
    "def getHistoParam(data):\n",
    "    Nbins = int(np.sqrt(data.shape[0]))\n",
    "    counts, x_edges = np.histogram(data, bins=Nbins)\n",
    "    binwidth = x_edges[1] - x_edges[0]\n",
    "    x_centres = x_edges[:-1] + binwidth/2\n",
    "    return Nbins, binwidth, counts, x_centres"
   ]
  },
  {
   "cell_type": "code",
   "execution_count": 6,
   "metadata": {},
   "outputs": [],
   "source": [
    "@lru_cache(maxsize = None)\n",
    "def integrateMC(f, bound, *par):\n",
    "    N = 10000\n",
    "    x = np.random.uniform(bound[0], bound[1], N)\n",
    "    fx = f(x, *par)\n",
    "    y = np.random.uniform(0, np.max(fx), N)\n",
    "    ratio = np.sum(y < fx) / N\n",
    "    norm = ratio * (bound[1] - bound[0]) * np.max(fx)\n",
    "    return norm"
   ]
  },
  {
   "cell_type": "code",
   "execution_count": 7,
   "metadata": {},
   "outputs": [],
   "source": [
    "def scalePdf(pdf, data):\n",
    "    # handle the binning\n",
    "    Ndata = data.shape[0]\n",
    "    _, binwidth, _, _ = getHistoParam(data)\n",
    "    scaleFactor = Ndata * binwidth\n",
    "    def scaledPdf(x, alpha, beta):\n",
    "        return pdf(x, alpha, beta) * scaleFactor\n",
    "    \n",
    "    return scaledPdf"
   ]
  },
  {
   "cell_type": "code",
   "execution_count": 8,
   "metadata": {},
   "outputs": [],
   "source": [
    "def unnormal_quadratic(x, alpha, beta):\n",
    "    return alpha * x**2 + beta*x + 1"
   ]
  },
  {
   "cell_type": "code",
   "execution_count": 42,
   "metadata": {},
   "outputs": [],
   "source": [
    "def normal_quadratic(x, alpha, beta):\n",
    "    return unnormal_quadratic(x, alpha, beta) / integrateMC(unnormal_quadratic, bound1, alpha, beta)"
   ]
  },
  {
   "cell_type": "code",
   "execution_count": 43,
   "metadata": {},
   "outputs": [],
   "source": [
    "def scale_normal_quadratic(x, N, alpha, beta):\n",
    "    return N * normal_quadratic(x, alpha, beta)"
   ]
  },
  {
   "cell_type": "code",
   "execution_count": 36,
   "metadata": {},
   "outputs": [
    {
     "data": {
      "image/png": "[encoded data removed]",
      "text/plain": [
       "<Figure size 1000x600 with 1 Axes>"
      ]
     },
     "metadata": {},
     "output_type": "display_data"
    }
   ],
   "source": [
    "def plotHisto(data):\n",
    "    fig, ax = plt.subplots(1, 1, figsize=(10, 6))\n",
    "    Nbins, binwidth, counts, x_centres = getHistoParam(data)\n",
    "    \n",
    "    xMax = 0.95 or  bound1[1]\n",
    "    xMin = -0.95 or bound1[0]\n",
    "\n",
    "    x_axis = np.linspace(bound1[0], bound1[1], 100)\n",
    "    ax.hist(data, bins=Nbins, histtype='bar', label='Data', rwidth=0.9)\n",
    "    # scaledPdf = scalePdf(normal_quadratic, data)\n",
    "    # ax.plot(x_axis, scaledPdf(x_axis, 0.5, 0.5), label='Scaled PDF')\n",
    "    ax.set_xlabel('Value')\n",
    "    ax.set_ylabel('Frequency')\n",
    "    ax.legend()\n",
    "plotHisto(data1)  "
   ]
  },
  {
   "cell_type": "code",
   "execution_count": null,
   "metadata": {},
   "outputs": [],
   "source": []
  },
  {
   "cell_type": "code",
   "execution_count": 39,
   "metadata": {},
   "outputs": [],
   "source": [
    "def ln_likelihood_core(data, alpha, beta):\n",
    "    return np.sum(np.log(normal_quadratic(data, alpha, beta)))\n",
    "\n",
    "def ln_likelihood(alpha, beta):\n",
    "    return - ln_likelihood_core(data1, alpha, beta)\n"
   ]
  },
  {
   "cell_type": "code",
   "execution_count": 26,
   "metadata": {},
   "outputs": [],
   "source": [
    "def scanAlphaBeta():\n",
    "    RESOLUTION = 10\n",
    "    alphas = np.linspace(0.1, 1.2, RESOLUTION)\n",
    "    betas = np.linspace(0.1, 1.2, RESOLUTION)\n",
    "    likelihoods = np.zeros((len(alphas), len(betas)))\n",
    "    min_alpha = 0\n",
    "    min_beta = 0\n",
    "    min_llh = 2000\n",
    "    for i, alpha in enumerate(alphas):\n",
    "        for j, beta in enumerate(betas):\n",
    "            likelihoods[i, j] = ln_likelihood(alpha, beta)\n",
    "            if likelihoods[i, j] < min_llh:\n",
    "                min_llh = likelihoods[i, j]\n",
    "                min_alpha = alpha\n",
    "                min_beta = beta\n",
    "    \n",
    "    fig, ax = plt.subplots(1, 1, figsize=(10, 6))\n",
    "    c = ax.contourf(alphas, betas, likelihoods, levels=20, cmap='GnBu')\n",
    "    ax.plot(min_alpha, min_beta, color = 'tomato')\n",
    "    fig.colorbar(c, ax=ax)\n",
    "    ax.set_xlabel('Alpha')\n",
    "    ax.set_ylabel('Beta')\n",
    "    ax.set_title('Likelihood scan')\n",
    "    d = {'Alpha': min_alpha, 'Beta': min_beta, 'Likelihood': min_llh}\n",
    "    add_text_to_ax(0.02, 0.95, nice_string_output(d), ax, fontsize=12)\n",
    "    plt.show()\n",
    "    return min_alpha, min_beta"
   ]
  },
  {
   "cell_type": "code",
   "execution_count": null,
   "metadata": {},
   "outputs": [],
   "source": []
  },
  {
   "cell_type": "code",
   "execution_count": 44,
   "metadata": {},
   "outputs": [
    {
     "name": "stdout",
     "output_type": "stream",
     "text": [
      "┌─────────────────────────────────────────────────────────────────────────┐\n",
      "│                                Migrad                                   │\n",
      "├──────────────────────────────────┬──────────────────────────────────────┤\n",
      "│ FCN = -3.703e+04                 │              Nfcn = 406              │\n",
      "│ EDM = 7.97e+07 (Goal: 0.0002)    │                                      │\n",
      "├──────────────────────────────────┼──────────────────────────────────────┤\n",
      "│         INVALID Minimum          │   ABOVE EDM threshold (goal x 10)    │\n",
      "├──────────────────────────────────┼──────────────────────────────────────┤\n",
      "│      No parameters at limit      │           Below call limit           │\n",
      "├──────────────────────────────────┼──────────────────────────────────────┤\n",
      "│             Hesse ok             │         Covariance accurate          │\n",
      "└──────────────────────────────────┴──────────────────────────────────────┘\n",
      "┌───┬───────┬───────────┬───────────┬────────────┬────────────┬─────────┬─────────┬───────┐\n",
      "│   │ Name  │   Value   │ Hesse Err │ Minos Err- │ Minos Err+ │ Limit-  │ Limit+  │ Fixed │\n",
      "├───┼───────┼───────────┼───────────┼────────────┼────────────┼─────────┼─────────┼───────┤\n",
      "│ 0 │ N     │ 203.62e6  │  0.11e6   │            │            │         │         │       │\n",
      "│ 1 │ alpha │    0.5    │    0.6    │            │            │         │         │       │\n",
      "│ 2 │ beta  │    0.5    │    0.8    │            │            │         │         │       │\n",
      "└───┴───────┴───────────┴───────────┴────────────┴────────────┴─────────┴─────────┴───────┘\n",
      "┌───────┬─────────────────────────┐\n",
      "│       │       N   alpha    beta │\n",
      "├───────┼─────────────────────────┤\n",
      "│     N │ 1.2e+10     0.0    -0.0 │\n",
      "│ alpha │     0.0   0.388    -0.5 │\n",
      "│  beta │    -0.0    -0.5   0.612 │\n",
      "└───────┴─────────────────────────┘\n"
     ]
    }
   ],
   "source": [
    "def minimiseLLH(data):\n",
    "    ullh = UnbinnedLH(scale_normal_quadratic, data=data1, bound=bound1)\n",
    "    minuit = Minuit(ullh, N = 2000, alpha=0.5, beta=0.5)\n",
    "    minuit.migrad()\n",
    "    print(minuit.migrad())\n",
    "\n",
    "    # 0.64\n",
    "    \n",
    "minimiseLLH(data1)\n",
    "    \n",
    "\n"
   ]
  },
  {
   "cell_type": "code",
   "execution_count": 15,
   "metadata": {},
   "outputs": [
    {
     "ename": "SyntaxError",
     "evalue": "invalid syntax (1885169875.py, line 1)",
     "output_type": "error",
     "traceback": [
      "\u001b[0;36m  Cell \u001b[0;32mIn[15], line 1\u001b[0;36m\u001b[0m\n\u001b[0;31m    def\u001b[0m\n\u001b[0m        ^\u001b[0m\n\u001b[0;31mSyntaxError\u001b[0m\u001b[0;31m:\u001b[0m invalid syntax\n"
     ]
    }
   ],
   "source": [
    "def "
   ]
  }
 ],
 "metadata": {
  "kernelspec": {
   "display_name": "Python 3",
   "language": "python",
   "name": "python3"
  },
  "language_info": {
   "codemirror_mode": {
    "name": "ipython",
    "version": 3
   },
   "file_extension": ".py",
   "mimetype": "text/x-python",
   "name": "python",
   "nbconvert_exporter": "python",
   "pygments_lexer": "ipython3",
   "version": "3.9.18"
  }
 },
 "nbformat": 4,
 "nbformat_minor": 2
}
